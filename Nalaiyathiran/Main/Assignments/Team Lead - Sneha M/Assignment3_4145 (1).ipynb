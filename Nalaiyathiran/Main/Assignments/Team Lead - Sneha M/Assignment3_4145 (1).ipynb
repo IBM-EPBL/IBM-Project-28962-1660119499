{
  "nbformat": 4,
  "nbformat_minor": 0,
  "metadata": {
    "colab": {
      "provenance": [],
      "collapsed_sections": []
    },
    "kernelspec": {
      "name": "python3",
      "display_name": "Python 3"
    },
    "language_info": {
      "name": "python"
    }
  },
  "cells": [
    {
      "cell_type": "code",
      "execution_count": 3,
      "metadata": {
        "colab": {
          "base_uri": "https://localhost:8080/"
        },
        "id": "ffQb2OP4hWVr",
        "outputId": "13c024bc-d4b3-4d4d-e0b9-5dd5dc9f77df"
      },
      "outputs": [
        {
          "output_type": "stream",
          "name": "stdout",
          "text": [
            "unzip:  cannot find or open /content/drive/MyDrive/Flowers-Dataset, /content/drive/MyDrive/Flowers-Dataset.zip or /content/drive/MyDrive/Flowers-Dataset.ZIP.\n"
          ]
        }
      ],
      "source": [
        "#unzip the dataset\n",
        "!unzip '/content/drive/MyDrive/Flowers-Dataset'"
      ]
    },
    {
      "cell_type": "markdown",
      "source": [
        "Importing necessary packages"
      ],
      "metadata": {
        "id": "inrbnqcro4kb"
      }
    },
    {
      "cell_type": "code",
      "source": [
        "from tensorflow.keras.preprocessing.image import ImageDataGenerator"
      ],
      "metadata": {
        "id": "iqJX1NNZiBDg"
      },
      "execution_count": 4,
      "outputs": []
    },
    {
      "cell_type": "markdown",
      "source": [
        "spliting data into training and testing"
      ],
      "metadata": {
        "id": "dVrHcKIZpAmr"
      }
    },
    {
      "cell_type": "code",
      "source": [
        "train_datagen=ImageDataGenerator(rescale=1./255,zoom_range=0.2,horizontal_flip=True,validation_split=0.2)"
      ],
      "metadata": {
        "id": "9S_4sp8giQgf"
      },
      "execution_count": 5,
      "outputs": []
    },
    {
      "cell_type": "code",
      "source": [
        "from google.colab import drive\n",
        "drive.mount('/content/drive')"
      ],
      "metadata": {
        "colab": {
          "base_uri": "https://localhost:8080/"
        },
        "id": "vbHIfm0zv2dZ",
        "outputId": "c57fd2d0-d9ca-4a1c-9a29-b4bd2d4517a9"
      },
      "execution_count": null,
      "outputs": [
        {
          "output_type": "stream",
          "name": "stdout",
          "text": [
            "Drive already mounted at /content/drive; to attempt to forcibly remount, call drive.mount(\"/content/drive\", force_remount=True).\n"
          ]
        }
      ]
    },
    {
      "cell_type": "code",
      "source": [
        "xtrain=train_datagen.flow_from_directory('/content/drive/MyDrive/Flowers-Dataset',target_size=(64,64),class_mode='categorical',batch_size=100,subset=\"training\")"
      ],
      "metadata": {
        "colab": {
          "base_uri": "https://localhost:8080/"
        },
        "id": "feJCvmrhi3-S",
        "outputId": "dcdd7873-ab92-420a-b74d-02f2d9c5928f"
      },
      "execution_count": 10,
      "outputs": [
        {
          "output_type": "stream",
          "name": "stdout",
          "text": [
            "Found 100 images belonging to 1 classes.\n"
          ]
        }
      ]
    },
    {
      "cell_type": "code",
      "source": [
        "xtest=train_datagen.flow_from_directory('/content/drive/MyDrive/Flowers-Dataset/flowers',target_size=(64,64),class_mode='categorical',batch_size=100,subset=\"validation\")"
      ],
      "metadata": {
        "colab": {
          "base_uri": "https://localhost:8080/"
        },
        "id": "Uh5rWY9vjVSp",
        "outputId": "793a9352-1048-49ee-c745-15c56147aa0b"
      },
      "execution_count": 11,
      "outputs": [
        {
          "output_type": "stream",
          "name": "stdout",
          "text": [
            "Found 25 images belonging to 1 classes.\n"
          ]
        }
      ]
    },
    {
      "cell_type": "markdown",
      "source": [
        "CNN Model Building"
      ],
      "metadata": {
        "id": "s2SDoloypHgy"
      }
    },
    {
      "cell_type": "code",
      "source": [
        "from tensorflow.keras.models import Sequential\n",
        "from tensorflow.keras.layers import Convolution2D,MaxPooling2D,Flatten,Dense"
      ],
      "metadata": {
        "id": "9pTa9L5jjuKE"
      },
      "execution_count": 12,
      "outputs": []
    },
    {
      "cell_type": "code",
      "source": [
        "model = Sequential()\n",
        "model.add(Convolution2D(32,(3,3),activation='relu',input_shape=(64,64,3))) # Convolution layer\n",
        "model.add(MaxPooling2D(pool_size=(2,2))) # Max pooling layer\n",
        "model.add(Flatten()) # Flatten layer\n",
        "# Fully connected layers (ANN)\n",
        "model.add(Dense(300,activation='relu')) # Hidden layer 1\n",
        "model.add(Dense(150,activation='relu')) # Hidden layer 2\n",
        "model.add(Dense(5,activation='softmax')) # Output layer"
      ],
      "metadata": {
        "id": "0UPGBSDPj9W4"
      },
      "execution_count": 13,
      "outputs": []
    },
    {
      "cell_type": "markdown",
      "source": [
        "Compiling the model"
      ],
      "metadata": {
        "id": "kY2tYrbbpQG5"
      }
    },
    {
      "cell_type": "code",
      "source": [
        "model.compile(optimizer='adam',loss='categorical_crossentropy',metrics=['accuracy'])"
      ],
      "metadata": {
        "id": "kF5AVVr6kNHi"
      },
      "execution_count": 14,
      "outputs": []
    },
    {
      "cell_type": "markdown",
      "source": [
        "Training the model"
      ],
      "metadata": {
        "id": "bv9WBddspTNd"
      }
    },
    {
      "cell_type": "code",
      "source": [
        "model.fit_generator(xtrain,\n",
        "                    steps_per_epoch=len(xtrain),\n",
        "                    epochs=10,\n",
        "                    validation_data=xtest,\n",
        "                    validation_steps=len(xtest))"
      ],
      "metadata": {
        "colab": {
          "base_uri": "https://localhost:8080/"
        },
        "id": "jswUYhAnkVGy",
        "outputId": "9b30d40b-d473-4de3-e477-c2822fab8198"
      },
      "execution_count": 15,
      "outputs": [
        {
          "output_type": "stream",
          "name": "stderr",
          "text": [
            "/usr/local/lib/python3.7/dist-packages/ipykernel_launcher.py:5: UserWarning: `Model.fit_generator` is deprecated and will be removed in a future version. Please use `Model.fit`, which supports generators.\n",
            "  \"\"\"\n"
          ]
        },
        {
          "output_type": "stream",
          "name": "stdout",
          "text": [
            "Epoch 1/10\n",
            "1/1 [==============================] - 2s 2s/step - loss: 8.1259 - accuracy: 0.0000e+00 - val_loss: 28.0207 - val_accuracy: 0.8400\n",
            "Epoch 2/10\n",
            "1/1 [==============================] - 1s 733ms/step - loss: 28.7494 - accuracy: 0.8300 - val_loss: 38.6090 - val_accuracy: 0.0000e+00\n",
            "Epoch 3/10\n",
            "1/1 [==============================] - 1s 736ms/step - loss: 40.3557 - accuracy: 0.0000e+00 - val_loss: 55.5106 - val_accuracy: 1.0000\n",
            "Epoch 4/10\n",
            "1/1 [==============================] - 1s 742ms/step - loss: 57.0039 - accuracy: 1.0000 - val_loss: 58.9590 - val_accuracy: 1.0000\n",
            "Epoch 5/10\n",
            "1/1 [==============================] - 1s 716ms/step - loss: 61.1802 - accuracy: 1.0000 - val_loss: 62.3546 - val_accuracy: 0.0000e+00\n",
            "Epoch 6/10\n",
            "1/1 [==============================] - 1s 756ms/step - loss: 64.3197 - accuracy: 0.0000e+00 - val_loss: 70.5450 - val_accuracy: 0.0000e+00\n",
            "Epoch 7/10\n",
            "1/1 [==============================] - 1s 716ms/step - loss: 73.2040 - accuracy: 0.0000e+00 - val_loss: 96.9926 - val_accuracy: 0.0000e+00\n",
            "Epoch 8/10\n",
            "1/1 [==============================] - 1s 739ms/step - loss: 99.6975 - accuracy: 0.0000e+00 - val_loss: 119.7047 - val_accuracy: 1.0000\n",
            "Epoch 9/10\n",
            "1/1 [==============================] - 1s 731ms/step - loss: 124.6306 - accuracy: 1.0000 - val_loss: 147.2195 - val_accuracy: 1.0000\n",
            "Epoch 10/10\n",
            "1/1 [==============================] - 1s 740ms/step - loss: 151.1324 - accuracy: 1.0000 - val_loss: 190.3655 - val_accuracy: 0.0000e+00\n"
          ]
        },
        {
          "output_type": "execute_result",
          "data": {
            "text/plain": [
              "<keras.callbacks.History at 0x7fecdac03a10>"
            ]
          },
          "metadata": {},
          "execution_count": 15
        }
      ]
    },
    {
      "cell_type": "markdown",
      "source": [
        "Save the model"
      ],
      "metadata": {
        "id": "_SH2mcCxpXNU"
      }
    },
    {
      "cell_type": "code",
      "source": [
        "model.save('Flower.h5')"
      ],
      "metadata": {
        "id": "wDBANWJolyWU"
      },
      "execution_count": 16,
      "outputs": []
    },
    {
      "cell_type": "markdown",
      "source": [
        "Test the model"
      ],
      "metadata": {
        "id": "UuARg-dxpcBn"
      }
    },
    {
      "cell_type": "code",
      "source": [
        "import numpy as np \n",
        "from tensorflow.keras.preprocessing import image"
      ],
      "metadata": {
        "id": "etGSq47cl6FT"
      },
      "execution_count": 17,
      "outputs": []
    },
    {
      "cell_type": "code",
      "source": [
        "img=image.load_img('/content/drive/MyDrive/Flowers-Dataset/flowers/daisy/100080576_f52e8ee070_n.jpg',target_size=(64,64))"
      ],
      "metadata": {
        "id": "vp3cl71VmGZR"
      },
      "execution_count": 19,
      "outputs": []
    },
    {
      "cell_type": "code",
      "source": [
        "img"
      ],
      "metadata": {
        "colab": {
          "base_uri": "https://localhost:8080/",
          "height": 81
        },
        "id": "nOlzVH5dmkVm",
        "outputId": "1102a4b4-07ac-41b5-dede-84aaa933e585"
      },
      "execution_count": 20,
      "outputs": [
        {
          "output_type": "execute_result",
          "data": {
            "text/plain": [
              "<PIL.Image.Image image mode=RGB size=64x64 at 0x7FECD5BB1B50>"
            ],
            "image/png": "[encoded data removed]"
          },
          "metadata": {},
          "execution_count": 20
        }
      ]
    },
    {
      "cell_type": "code",
      "source": [
        "x=image.img_to_array(img)\n",
        "x"
      ],
      "metadata": {
        "colab": {
          "base_uri": "https://localhost:8080/"
        },
        "id": "cZrUyAE8msqV",
        "outputId": "af3f084f-dab4-41fb-fac8-a459f5b8d427"
      },
      "execution_count": 21,
      "outputs": [
        {
          "output_type": "execute_result",
          "data": {
            "text/plain": [
              "array([[[141., 141., 139.],\n",
              "        [149., 149., 149.],\n",
              "        [152., 152., 154.],\n",
              "        ...,\n",
              "        [162., 161., 166.],\n",
              "        [154., 154., 152.],\n",
              "        [153., 153., 153.]],\n",
              "\n",
              "       [[136., 135., 131.],\n",
              "        [146., 145., 143.],\n",
              "        [169., 168., 174.],\n",
              "        ...,\n",
              "        [159., 158., 163.],\n",
              "        [155., 155., 153.],\n",
              "        [149., 149., 149.]],\n",
              "\n",
              "       [[125., 125., 117.],\n",
              "        [138., 140., 137.],\n",
              "        [152., 152., 152.],\n",
              "        ...,\n",
              "        [156., 156., 156.],\n",
              "        [157., 157., 155.],\n",
              "        [143., 142., 140.]],\n",
              "\n",
              "       ...,\n",
              "\n",
              "       [[ 41.,  44.,  23.],\n",
              "        [ 43.,  46.,  25.],\n",
              "        [ 49.,  51.,  37.],\n",
              "        ...,\n",
              "        [128., 124., 121.],\n",
              "        [125., 121., 118.],\n",
              "        [125., 122., 117.]],\n",
              "\n",
              "       [[ 43.,  46.,  25.],\n",
              "        [ 43.,  46.,  25.],\n",
              "        [ 54.,  55.,  37.],\n",
              "        ...,\n",
              "        [130., 126., 125.],\n",
              "        [129., 125., 124.],\n",
              "        [127., 123., 122.]],\n",
              "\n",
              "       [[ 44.,  47.,  26.],\n",
              "        [ 45.,  48.,  27.],\n",
              "        [ 53.,  55.,  34.],\n",
              "        ...,\n",
              "        [137., 133., 132.],\n",
              "        [133., 129., 128.],\n",
              "        [130., 126., 125.]]], dtype=float32)"
            ]
          },
          "metadata": {},
          "execution_count": 21
        }
      ]
    },
    {
      "cell_type": "code",
      "source": [
        "x=np.expand_dims(x,axis=0)\n",
        "x"
      ],
      "metadata": {
        "colab": {
          "base_uri": "https://localhost:8080/"
        },
        "id": "JnUNyeRWmzsU",
        "outputId": "84d0091f-041b-41e3-845e-baffd2e3ba8f"
      },
      "execution_count": 22,
      "outputs": [
        {
          "output_type": "execute_result",
          "data": {
            "text/plain": [
              "array([[[[141., 141., 139.],\n",
              "         [149., 149., 149.],\n",
              "         [152., 152., 154.],\n",
              "         ...,\n",
              "         [162., 161., 166.],\n",
              "         [154., 154., 152.],\n",
              "         [153., 153., 153.]],\n",
              "\n",
              "        [[136., 135., 131.],\n",
              "         [146., 145., 143.],\n",
              "         [169., 168., 174.],\n",
              "         ...,\n",
              "         [159., 158., 163.],\n",
              "         [155., 155., 153.],\n",
              "         [149., 149., 149.]],\n",
              "\n",
              "        [[125., 125., 117.],\n",
              "         [138., 140., 137.],\n",
              "         [152., 152., 152.],\n",
              "         ...,\n",
              "         [156., 156., 156.],\n",
              "         [157., 157., 155.],\n",
              "         [143., 142., 140.]],\n",
              "\n",
              "        ...,\n",
              "\n",
              "        [[ 41.,  44.,  23.],\n",
              "         [ 43.,  46.,  25.],\n",
              "         [ 49.,  51.,  37.],\n",
              "         ...,\n",
              "         [128., 124., 121.],\n",
              "         [125., 121., 118.],\n",
              "         [125., 122., 117.]],\n",
              "\n",
              "        [[ 43.,  46.,  25.],\n",
              "         [ 43.,  46.,  25.],\n",
              "         [ 54.,  55.,  37.],\n",
              "         ...,\n",
              "         [130., 126., 125.],\n",
              "         [129., 125., 124.],\n",
              "         [127., 123., 122.]],\n",
              "\n",
              "        [[ 44.,  47.,  26.],\n",
              "         [ 45.,  48.,  27.],\n",
              "         [ 53.,  55.,  34.],\n",
              "         ...,\n",
              "         [137., 133., 132.],\n",
              "         [133., 129., 128.],\n",
              "         [130., 126., 125.]]]], dtype=float32)"
            ]
          },
          "metadata": {},
          "execution_count": 22
        }
      ]
    },
    {
      "cell_type": "code",
      "source": [
        "model.predict(x)"
      ],
      "metadata": {
        "colab": {
          "base_uri": "https://localhost:8080/"
        },
        "id": "VQNoO3Thn1v7",
        "outputId": "ef38ce23-3d99-4fbd-8cec-9e3abb0888d9"
      },
      "execution_count": 23,
      "outputs": [
        {
          "output_type": "execute_result",
          "data": {
            "text/plain": [
              "array([[0., 1., 0., 0., 0.]], dtype=float32)"
            ]
          },
          "metadata": {},
          "execution_count": 23
        }
      ]
    },
    {
      "cell_type": "code",
      "source": [
        "xtrain.class_indices"
      ],
      "metadata": {
        "colab": {
          "base_uri": "https://localhost:8080/"
        },
        "id": "DV65I9mOn7Ti",
        "outputId": "8feaad7e-0dd6-4598-f0f7-271c4629cfdf"
      },
      "execution_count": 24,
      "outputs": [
        {
          "output_type": "execute_result",
          "data": {
            "text/plain": [
              "{'flowers': 0}"
            ]
          },
          "metadata": {},
          "execution_count": 24
        }
      ]
    },
    {
      "cell_type": "code",
      "source": [
        "op=['daisy','dandelion','rose','sunflower','tulip']\n",
        "pred=np.argmax(model.predict(x))\n",
        "op[pred]"
      ],
      "metadata": {
        "colab": {
          "base_uri": "https://localhost:8080/",
          "height": 36
        },
        "id": "TScAXFFYoAz6",
        "outputId": "74e19438-081e-4d82-8a1a-f76ac2fb0ae8"
      },
      "execution_count": 25,
      "outputs": [
        {
          "output_type": "execute_result",
          "data": {
            "text/plain": [
              "'dandelion'"
            ],
            "application/vnd.google.colaboratory.intrinsic+json": {
              "type": "string"
            }
          },
          "metadata": {},
          "execution_count": 25
        }
      ]
    }
  ]
}